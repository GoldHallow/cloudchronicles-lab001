{
 "cells": [
  {
   "cell_type": "markdown",
   "id": "0f1e0979",
   "metadata": {},
   "source": [
    "# 🧠 cloudChronicles Lab #001: Disaster Recovery Detective\n",
    "\n",
    "**Lab Type:** Idea  \n",
    "**Estimated Time:** 30–45 mins  \n",
    "**Skill Level:** Beginner"
   ]
  },
  {
   "cell_type": "code",
   "execution_count": null,
   "id": "a97f86ab",
   "metadata": {},
   "outputs": [],
   "source": [
    "# Let's begin by printing your name to personalize the notebook\n",
    "your_name = \"\"\n",
    "print(f\"Welcome to the lab, Christian!\")"
   ]
  },
  {
   "cell_type": "markdown",
   "id": "0f94d019",
   "metadata": {},
   "source": [
    "## 🔍 STAR Method Lab Prompt\n",
    "\n",
    "**Situation:**  \n",
    "There is a regional outage in Google Cloud’s us-central1 region. This could be due to infrastructure failure, network issues, or even a natural disaster affecting the region. The following critical services are impacted:\n",
    "\n",
    "**Task:**  \n",
    "To provide a comprehensive Disaster Recovery (DR) strategy that ensures the failover of critical services (like Cloud SQL, Cloud Storage, and Pub/Sub) to another region in Google Cloud. Specifically, the task is to:

Failover the Cloud SQL databases to a replica in a different region.

Ensure availability of Cloud Storage objects in a different region through multi-region replication.

Send alerts and notifications via Pub/Sub to notify teams of the outage and recovery efforts.

\n",
    "\n",
    "**Action:**  \n",
    "Cloud SQL Failover to Replica (with Cross-region Replication):

Set up Multi-region Cloud SQL replication:

Before the outage, create a Cloud SQL replica in a different region (e.g., us-east1 or us-west1).

Ensure automated backups are enabled in Cloud SQL, so the replicas are in sync with the primary instance.

On failover (if the primary region fails):

Promote the read replica in the secondary region to become the primary database.

This is done via the Cloud SQL Console or gcloud CLI commands:

bash
Copy
Edit
gcloud sql instances promote-replica INSTANCE_NAME
DNS and Connection String Update: Update your application’s connection strings to point to the newly promoted Cloud SQL instance. This can be handled by using Google Cloud’s Cloud DNS service for dynamic updates.

Cloud Storage Failover (Using Multi-Regional Buckets):

Enable Multi-Region Replication:

Use Multi-Regional Cloud Storage Buckets to store critical data. This ensures that your data is replicated automatically across multiple regions (e.g., US and EU).

Data in multi-regional buckets is available even if an entire region becomes unavailable.

In the case of a regional failure (such as us-central1), Cloud Storage will serve data from the nearest available region.

Automated Object Sync (If Needed):

If your application requires a more granular sync, set up Cloud Storage Transfer Service to sync files between buckets across regions at defined intervals.

Pub/Sub Failover and Alerting:

Pub/Sub Regional Failover:

Configure Pub/Sub topics with global subscriptions. This ensures that messages are delivered even if one region is impacted.

Ensure that Pub/Sub messages are being processed in a secondary region by subscribing to topics from a service or VM in that region.

Alerting:

Use Google Cloud Monitoring and Alerts to set up Pub/Sub-based alerts for when an outage is detected in the us-central1 region.

For example, you can set up an alerting policy in Google Cloud Monitoring that triggers on failure of a region-specific resource.

Configure alerts to be sent via Pub/Sub, allowing teams to be notified through multiple channels (email, Slack, SMS, etc.).

Additional Failover and Recovery Steps:

Google Cloud Load Balancing:

Use Global HTTP(S) Load Balancing to distribute traffic to regions unaffected by the outage. This ensures your application can continue to serve requests even if the primary region (us-central1) is down.

Infrastructure as Code (IaC):

Automate the failover process using Terraform, Deployment Manager, or Cloud Functions to spin up resources and configure them automatically when a disaster is detected.\n",
    "\n",
    "**Expected Result:**  \n",
    "Cloud SQL Failover: After promoting the replica in another region, the application should be able to resume database operations with minimal data loss (as replicas are kept in sync).

Cloud Storage Availability: Objects stored in multi-regional buckets will remain available from another region, ensuring that customers can still access their data without interruptions.

Pub/Sub Alerts: Teams will receive timely alerts on the status of the outage and recovery operations, allowing for quick response times.

No Downtime for End-users: By leveraging global load balancing and multi-region resources, the user experience remains uninterrupted, and recovery is fast."
   ]
  },
  {
   "cell_type": "markdown",
   "id": "397b221d",
   "metadata": {},
   "source": [
    "## ✍️ Your Assignment\n",
    "\n",
    "_Use this section to complete your deliverable:_\n",
    "\n",
    "```markdown\n",
    "(Example Format)\n",
    "\n",
    "- **Primary Region**: us-central1  \n",
    "- **Backup Location**: us-east1  \n",
    "- **Failover Trigger**: Load balancer health check + Pub/Sub alert  \n",
    "- **Redundancy Services**:  \n",
    "   - Cloud SQL with failover  \n",
    "   - Cloud Storage versioning  \n",
    "   - Cloud Functions for health monitoring  \n",
    "- **Backup Schedule**: Every 6 hours, daily export to multi-region bucket  \n",
    "```"
   ]
  }
 ],
 "metadata": {},
 "nbformat": 4,
 "nbformat_minor": 5
}
