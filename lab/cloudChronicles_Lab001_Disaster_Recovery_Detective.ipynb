{
 "cells": [
  {
   "cell_type": "markdown",
   "id": "0f1e0979",
   "metadata": {},
   "source": [
    "# 🧠 cloudChronicles Lab #001: Disaster Recovery Detective\n",
    "\n",
    "**Lab Type:** Idea  \n",
    "**Estimated Time:** 30–45 mins  \n",
    "**Skill Level:** Beginner"
   ]
  },
  {
   "cell_type": "code",
   "execution_count": null,
   "id": "a97f86ab",
   "metadata": {},
   "outputs": [],
   "source": [
    "# Let's begin by printing your name to personalize the notebook\n",
    "your_name = \"\"\n",
    "print(f\"Welcome to the lab, {your_name}!\")"
   ]
  },
  {
   "cell_type": "markdown",
   "id": "0f94d019",
   "metadata": {},
   "source": [
    "## 🔍 STAR Method Lab Prompt\n",
    "\n",
    "**Situation:**  \n",
    "[There is a regional outage in Google Cloud’s us-central1 region. This could be due to infrastructure failure, network issues, or even a natural disaster affecting the region. The following critical services are impacted: Cloud SQL Databases Storage (Cloud Storage) Messaging and Event-driven Workflows (Pub/Sub) The primary goal is to recover business operations while ensuring data integrity, availability, and minimal disruption to customers.]\n",
    "\n",
    "**Task:**  \n",
    "[To provide a comprehensive Disaster Recovery (DR) strategy that ensures the failover of critical services (like Cloud SQL, Cloud Storage, and Pub/Sub) to another region in Google Cloud. Specifically, the task is to:

Failover the Cloud SQL databases to a replica in a different region.

Ensure availability of Cloud Storage objects in a different region through multi-region replication.

Send alerts and notifications via Pub/Sub to notify teams of the outage and recovery efforts.]\n",
    "\n",
    "**Action:**  \n",
    "[Step-by-step instructions using GCP tools.]\n",
    "\n",
    "**Expected Result:**  \n",
    "[A defined deliverable such as a DR plan, diagram, MVP, etc.]"
   ]
  },
  {
   "cell_type": "markdown",
   "id": "397b221d",
   "metadata": {},
   "source": [
    "## ✍️ Your Assignment\n",
    "\n",
    "_Use this section to complete your deliverable:_\n",
    "\n",
    "```markdown\n",
    "(Example Format)\n",
    "\n",
    "- **Primary Region**: us-central1  \n",
    "- **Backup Location**: us-east1  \n",
    "- **Failover Trigger**: Load balancer health check + Pub/Sub alert  \n",
    "- **Redundancy Services**:  \n",
    "   - Cloud SQL with failover  \n",
    "   - Cloud Storage versioning  \n",
    "   - Cloud Functions for health monitoring  \n",
    "- **Backup Schedule**: Every 6 hours, daily export to multi-region bucket  \n",
    "```"
   ]
  }
 ],
 "metadata": {},
 "nbformat": 4,
 "nbformat_minor": 5
}
